{
 "cells": [
  {
   "cell_type": "markdown",
   "metadata": {},
   "source": [
    "# Average Model\n",
    "This notebook details the fitting and evaluation of the state of health estimation model"
   ]
  },
  {
   "cell_type": "code",
   "execution_count": null,
   "metadata": {},
   "outputs": [],
   "source": [
    "# change directory to ensure imports and downloads work correctly\n",
    "import os\n",
    "os.chdir('..')"
   ]
  },
  {
   "cell_type": "code",
   "execution_count": 2,
   "metadata": {},
   "outputs": [],
   "source": [
    "import numpy as np\n",
    "import pickle\n",
    "import matplotlib.pyplot as plt\n",
    "import scipy.optimize as spo\n",
    "import primed_data_processing.primed_utils as primed_utils\n",
    "from primed_data_processing.arbin_cycler import ArbinBatch"
   ]
  },
  {
   "cell_type": "code",
   "execution_count": 3,
   "metadata": {},
   "outputs": [],
   "source": [
    "# load data\n",
    "data_array = {}\n",
    "for cell_number in (9,10,11,12,3,4,13):\n",
    "    with open(f\"aggregate_params/C{cell_number}.npy\", \"rb\") as f:\n",
    "        data_array[cell_number] = np.load(f, allow_pickle=True)\n",
    "\n",
    "val_array = {}\n",
    "for cell_number in (1,2,5,6,7,8,16,14,15):\n",
    "    with open(f\"aggregate_params/C{cell_number}.npy\", \"rb\") as f:\n",
    "        val_array[cell_number] = np.load(f, allow_pickle=True)"
   ]
  },
  {
   "cell_type": "code",
   "execution_count": 81,
   "metadata": {},
   "outputs": [],
   "source": [
    "def fix_cell_7_8(val_array):\n",
    "    \"\"\"\n",
    "    Remove step with erroneous data by \n",
    "    overwriting it with the previous step.\n",
    "    \"\"\"\n",
    "    for dic in val_array[7]:\n",
    "        dic[25] = dic[23]\n",
    "    for dic in val_array[8]:\n",
    "        dic[25] = dic[23]\n",
    "fix_cell_7_8(val_array)"
   ]
  },
  {
   "cell_type": "code",
   "execution_count": 36,
   "metadata": {},
   "outputs": [],
   "source": [
    "def model(params, efc, mean_c, mean_dod, t, soh_i):\n",
    "    a = params[0]\n",
    "    b = params[1]\n",
    "    c = params[2]\n",
    "    d = params[3]\n",
    "    e = params[4]\n",
    "    alpha = params[5]\n",
    "    beta = params[6]\n",
    "    a_mean_c = np.mean(a * mean_c)\n",
    "    c_mean_dod = np.mean(c * mean_dod)\n",
    "    return soh_i*np.exp(b * efc * (c_mean_dod ** d + a_mean_c ** e)) - alpha * t ** beta\n",
    "\n",
    "def get_window_means(data, cycle, idx, i):\n",
    "    if idx == 0:\n",
    "        mean_c = np.array([data[1][cycle], data[1][cycle], data[1][cycle], data[1][cycle]])\n",
    "        mean_dod = np.array([data[2][cycle], data[2][cycle], data[2][cycle], data[2][cycle]])\n",
    "    elif idx == 1:\n",
    "        mean_c = np.array([data[1][cycle-i], data[1][cycle], data[1][cycle], data[1][cycle]])\n",
    "        mean_dod = np.array([data[2][cycle-i], data[2][cycle], data[2][cycle], data[2][cycle]])\n",
    "    elif idx == 2:\n",
    "        mean_c = np.array([data[1][cycle-2*i], data[1][cycle-i], data[1][cycle], data[1][cycle]])\n",
    "        mean_dod = np.array([data[2][cycle-2*i], data[2][cycle-i], data[2][cycle], data[2][cycle]])\n",
    "    else:\n",
    "        mean_c = np.array([data[1][cycle-3*i], data[1][cycle-2*i], data[1][cycle-i], data[1][cycle]])\n",
    "        mean_dod = np.array([data[2][cycle-3*i], data[2][cycle-2*i], data[2][cycle-i], data[2][cycle]])\n",
    "    return mean_c, mean_dod\n",
    "\n",
    "def sim_cell(params, data, cell_number, return_soh=False):\n",
    "    sse = 0\n",
    "    est_soh = []\n",
    "    sse_count = 1\n",
    "\n",
    "    if cell_number in (13,16):\n",
    "        rng = range(1,max(data[0].keys())+1)\n",
    "        i = 1\n",
    "\n",
    "    if cell_number in (9,10,11,12,1,2,3,4,5,6,7,8):\n",
    "        rng = range(1,max(data[0].keys())+1,2)\n",
    "        i = 2\n",
    "\n",
    "    if cell_number == 14:\n",
    "        rng = range(152,max(data[0].keys())+1)\n",
    "        i = 1\n",
    "\n",
    "    if cell_number == 15:\n",
    "        rng = range(151,max(data[0].keys())+1)\n",
    "        i = 1\n",
    "\n",
    "    soh_i = data[4][list(rng)[0]]\n",
    "\n",
    "    efc = 0\n",
    "    for idx, cycle in enumerate(rng):\n",
    "        efc += data[0][cycle]\n",
    "        time = data[3][cycle]\n",
    "        mean_c, mean_dod = get_window_means(data, cycle, idx, i)\n",
    "        est_soh.append(model(params, efc, mean_c, mean_dod, time, soh_i*100))\n",
    "\n",
    "        if cycle % 2 != 0 and cycle > 1 and cell_number not in (13,16):\n",
    "            actual_soh = data[4][cycle]\n",
    "            sse += ((actual_soh*100 - est_soh[-1]) ** 2)/sse_count\n",
    "            sse_count += 1\n",
    "        elif cell_number in (13,16) and cycle > 1:\n",
    "            actual_soh = data[4][cycle]\n",
    "            sse += ((actual_soh*100 - est_soh[-1]) ** 2)/sse_count\n",
    "            sse_count += 1\n",
    "            \n",
    "    if return_soh:\n",
    "        return sse, est_soh\n",
    "    return sse"
   ]
  },
  {
   "cell_type": "code",
   "execution_count": 5,
   "metadata": {},
   "outputs": [],
   "source": [
    "def obj_func(params, data_array, cell_numbers, cycle_fit=False):\n",
    "\n",
    "    if cycle_fit:\n",
    "        params = np.append(params, 1.2974e-2)\n",
    "        params = np.append(params, 0.7)\n",
    "\n",
    "    sse = 0\n",
    "    for cell_number in cell_numbers:\n",
    "        \n",
    "        data = data_array[cell_number]\n",
    "\n",
    "        if cell_number in (13,16):\n",
    "            sse += sim_cell(params, data, cell_number)\n",
    "\n",
    "        if cell_number in (9,10,11,12,1,2,3,4,5,6,7,8):\n",
    "            sse += sim_cell(params, data, cell_number)\n",
    "            \n",
    "    return sse"
   ]
  },
  {
   "cell_type": "code",
   "execution_count": 102,
   "metadata": {},
   "outputs": [],
   "source": [
    "global_result = spo.dual_annealing(\n",
    "    obj_func,\n",
    "    bounds = (\n",
    "        (1e-7, 1e-1),\n",
    "        (-1e-1, -1e-5),\n",
    "        (1e-3, 1.3),\n",
    "        (1,3),\n",
    "        (0,1),\n",
    "        (1e-3, 1e-1),\n",
    "        (0.4, 0.8)\n",
    "    ),\n",
    "    args=(\n",
    "        data_array,\n",
    "        (9,10,11,12,3,4,13),\n",
    "        False\n",
    "    ),\n",
    ")"
   ]
  },
  {
   "cell_type": "code",
   "execution_count": 231,
   "metadata": {},
   "outputs": [],
   "source": [
    "# (9,10,11,12,3,4,13)\n",
    "# (1,2,5,6,7,8,16)\n",
    "cell = 15\n",
    "data = val_array\n",
    "sse, soh = sim_cell([ 4.91441030e-04, -2.98808476e-03,  3.09008644e-01,  2.80785041e+00,\n",
    "         6.12442315e-01,  1.00000000e-01,  4.61330493e-01], data[cell], cell, True)"
   ]
  },
  {
   "cell_type": "code",
   "execution_count": 232,
   "metadata": {},
   "outputs": [
    {
     "data": {
      "image/png": "[encoded data removed]",
      "text/plain": [
       "<Figure size 640x480 with 1 Axes>"
      ]
     },
     "metadata": {},
     "output_type": "display_data"
    }
   ],
   "source": [
    "if cell == 14:\n",
    "    plt.plot([val*100 for idx, val in data[cell][4].items() if idx >=152], marker='*')\n",
    "elif cell == 15:\n",
    "    plt.plot([val*100 for idx, val in data[cell][4].items() if idx >=151], marker='*')\n",
    "else:\n",
    "    plt.plot(np.array(list(data[cell][4].values()))*100, marker='*')\n",
    "if cell in (9,10,11,12,1,2,3,4,5,6,7,8):\n",
    "    plt.plot(soh[:], marker='*')\n",
    "    pass\n",
    "else:\n",
    "    plt.plot(soh, marker='*')\n",
    "plt.legend((\"Measured SOH\", \"Estimated SOH\"))\n",
    "plt.xlabel(\"Cycle #\")\n",
    "plt.ylabel(\"SOH %\")\n",
    "plt.ylim(68, 101)\n",
    "plt.xlim(-1, 23)\n",
    "# plt.savefig(os.getcwd() + f\"/Images/C{cell}soh_val.png\")"
   ]
  },
  {
   "cell_type": "code",
   "execution_count": 23,
   "metadata": {},
   "outputs": [],
   "source": [
    "def get_max_error(data, est_soh):\n",
    "    if cell == 14:\n",
    "        actual_soh = np.array([val*100 for idx, val in data[4].items() if idx >=152])\n",
    "    elif cell == 15:\n",
    "        actual_soh = np.array([val*100 for idx, val in data[4].items() if idx >=151])\n",
    "    else:\n",
    "        actual_soh = np.array(list(data[4].values()))*100\n",
    "    err = np.abs(np.array(est_soh) - actual_soh)\n",
    "    return np.max(err), np.mean(err)"
   ]
  },
  {
   "cell_type": "code",
   "execution_count": 135,
   "metadata": {},
   "outputs": [],
   "source": [
    "max_err = {}\n",
    "mean_err = {}\n",
    "for cell in val_array.keys():\n",
    "    sse, soh = sim_cell([ 4.91441030e-04, -2.98808476e-03,  3.09008644e-01,  2.80785041e+00,\n",
    "        6.12442315e-01,  1.00000000e-01,  4.61330493e-01], val_array[cell], cell, True)\n",
    "    max_err[cell], mean_err[cell] = get_max_error(val_array[cell], soh)"
   ]
  },
  {
   "cell_type": "code",
   "execution_count": 136,
   "metadata": {},
   "outputs": [
    {
     "data": {
      "text/plain": [
       "<matplotlib.collections.PathCollection at 0x23cf11091b0>"
      ]
     },
     "execution_count": 136,
     "metadata": {},
     "output_type": "execute_result"
    },
    {
     "data": {
      "image/png": "[encoded data removed]",
      "text/plain": [
       "<Figure size 640x480 with 1 Axes>"
      ]
     },
     "metadata": {},
     "output_type": "display_data"
    }
   ],
   "source": [
    "plt.scatter(max_err.keys(), max_err.values(), marker='*')\n",
    "plt.scatter(mean_err.keys(), mean_err.values(), marker='*')"
   ]
  },
  {
   "cell_type": "code",
   "execution_count": 173,
   "metadata": {},
   "outputs": [
    {
     "name": "stdout",
     "output_type": "stream",
     "text": [
      "{1: 2.756761527247704, 2: 1.5309258439360036, 5: 1.357546261668162, 6: 1.2473497359082444, 7: 1.2642659411355766, 8: 4.419994960130651, 16: 1.5182272421844658, 14: 1.53240992414905, 15: 3.6904481121246278}\n",
      "{1: 1.1911983496021123, 2: 0.4626976883074959, 5: 0.8168340593242746, 6: 0.4356741595550229, 7: 0.41879268920492546, 8: 3.1068491786303203, 16: 0.5270297340000654, 14: 0.37767590709528454, 15: 2.2448932615526456}\n"
     ]
    }
   ],
   "source": [
    "print(max_err)\n",
    "print(mean_err)"
   ]
  }
 ],
 "metadata": {
  "kernelspec": {
   "display_name": "battery_sizing_model",
   "language": "python",
   "name": "python3"
  },
  "language_info": {
   "codemirror_mode": {
    "name": "ipython",
    "version": 3
   },
   "file_extension": ".py",
   "mimetype": "text/x-python",
   "name": "python",
   "nbconvert_exporter": "python",
   "pygments_lexer": "ipython3",
   "version": "3.10.9"
  },
  "orig_nbformat": 4
 },
 "nbformat": 4,
 "nbformat_minor": 2
}
