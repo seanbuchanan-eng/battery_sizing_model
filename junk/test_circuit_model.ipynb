{
 "cells": [
  {
   "cell_type": "code",
   "execution_count": 1,
   "metadata": {},
   "outputs": [],
   "source": [
    "import os\n",
    "os.chdir(\"../\")\n",
    "from data_processing import gamry_eis as geis\n",
    "from equivalent_circuit_model.standard_circuits import RandlesWarbug"
   ]
  },
  {
   "cell_type": "code",
   "execution_count": 8,
   "metadata": {},
   "outputs": [],
   "source": [
    "def load_eis(prepath, channel_numbers, file_prefix, file_suffix):\n",
    "    leaf_prepath = prepath\n",
    "    eis_sweeps = []\n",
    "    if isinstance(channel_numbers, int):\n",
    "        eis_sweep = geis.EisSweep(f'channel{channel_numbers}', 0.5)\n",
    "        eis_sweep.read_DTA_file(leaf_prepath + file_prefix + f'{channel_numbers}' + file_suffix)\n",
    "        eis_sweeps.append(eis_sweep)\n",
    "        return eis_sweep\n",
    "    elif isinstance(channel_numbers, tuple):\n",
    "        for channel_number in channel_numbers:\n",
    "            eis_sweep = geis.EisSweep(f'channel{channel_number}', 0.5)\n",
    "            eis_sweep.read_DTA_file(leaf_prepath + file_prefix + f'{channel_number}' + file_suffix)\n",
    "            eis_sweeps.append(eis_sweep)\n",
    "        return eis_sweeps"
   ]
  },
  {
   "cell_type": "code",
   "execution_count": 9,
   "metadata": {},
   "outputs": [],
   "source": [
    "# load gen1 pack1\n",
    "leaf_prepath = 'C:/Users/seanb/OneDrive/Documents/PRIMED/Battery Data/Gamry Data/'\n",
    "channel_numbers = (4)\n",
    "eis = load_eis(leaf_prepath, channel_numbers, 'B6T10V0_Chan00', '_Cycle001_Step014.DTA')"
   ]
  },
  {
   "cell_type": "code",
   "execution_count": 10,
   "metadata": {},
   "outputs": [
    {
     "data": {
      "text/plain": [
       "<data_processing.gamry_eis.EisSweep at 0x2d1fbd1add0>"
      ]
     },
     "execution_count": 10,
     "metadata": {},
     "output_type": "execute_result"
    }
   ],
   "source": [
    "eis"
   ]
  }
 ],
 "metadata": {
  "kernelspec": {
   "display_name": "battery_sizing_model",
   "language": "python",
   "name": "python3"
  },
  "language_info": {
   "codemirror_mode": {
    "name": "ipython",
    "version": 3
   },
   "file_extension": ".py",
   "mimetype": "text/x-python",
   "name": "python",
   "nbconvert_exporter": "python",
   "pygments_lexer": "ipython3",
   "version": "3.10.9"
  },
  "orig_nbformat": 4
 },
 "nbformat": 4,
 "nbformat_minor": 2
}
